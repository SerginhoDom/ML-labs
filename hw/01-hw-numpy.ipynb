{
 "cells": [
  {
   "cell_type": "markdown",
   "metadata": {},
   "source": [
    "# Worshop 2.1 Numpy\n",
    "\n",
    "1. Скачайте этот ноутбук к себе.\n",
    "2. Заполните пропущенные ячейки, отвечая на заданные вопросы. Там должен быть код! (если не сказано обратное)\n",
    "3. Сохраните результат в своём гитхаб репозитории.\n",
    "\n",
    "#### Полезная литература\n",
    "\n",
    "- http://www.numpy.org/\n",
    "- https://jakevdp.github.io/PythonDataScienceHandbook/02.00-introduction-to-numpy.html\n",
    "- https://docs.scipy.org/doc/numpy/user/quickstart.html"
   ]
  },
  {
   "cell_type": "markdown",
   "metadata": {},
   "source": [
    "1) Импортировать numpy и написать версию"
   ]
  },
  {
   "cell_type": "code",
   "execution_count": 2,
   "metadata": {},
   "outputs": [],
   "source": [
    "import numpy as np"
   ]
  },
  {
   "cell_type": "markdown",
   "metadata": {},
   "source": [
    "2) Создать нулевой вектор размера 10"
   ]
  },
  {
   "cell_type": "code",
   "execution_count": 3,
   "metadata": {},
   "outputs": [
    {
     "name": "stdout",
     "output_type": "stream",
     "text": [
      "[0. 0. 0. 0. 0. 0. 0. 0. 0. 0.]\n"
     ]
    }
   ],
   "source": [
    "vektor = np.zeros(10)\n",
    "\n",
    "print(vektor)"
   ]
  },
  {
   "cell_type": "markdown",
   "metadata": {},
   "source": [
    "3) Создать вектор заполненный 7-ами размера 7"
   ]
  },
  {
   "cell_type": "code",
   "execution_count": 4,
   "metadata": {},
   "outputs": [
    {
     "name": "stdout",
     "output_type": "stream",
     "text": [
      "[[7 7 7 7 7 7 7]]\n"
     ]
    }
   ],
   "source": [
    "vektor = np.full((1, 7), 7)\n",
    "\n",
    "print(vektor)"
   ]
  },
  {
   "cell_type": "markdown",
   "metadata": {},
   "source": [
    "4) Создать вектор заполненный четными числами от 10 до 100"
   ]
  },
  {
   "cell_type": "code",
   "execution_count": 5,
   "metadata": {},
   "outputs": [
    {
     "name": "stdout",
     "output_type": "stream",
     "text": [
      "[ 10.  12.  14.  16.  18.  20.  22.  24.  26.  28.  30.  32.  34.  36.\n",
      "  38.  40.  42.  44.  46.  48.  50.  52.  54.  56.  58.  60.  62.  64.\n",
      "  66.  68.  70.  72.  74.  76.  78.  80.  82.  84.  86.  88.  90.  92.\n",
      "  94.  96.  98. 100.]\n"
     ]
    }
   ],
   "source": [
    "vektor = np.linspace(10, 100, 46)\n",
    "\n",
    "print(vektor)"
   ]
  },
  {
   "cell_type": "markdown",
   "metadata": {},
   "source": [
    "5) Создать массив случайных чисел и развернуть его задом наперёд"
   ]
  },
  {
   "cell_type": "code",
   "execution_count": 7,
   "metadata": {},
   "outputs": [
    {
     "name": "stdout",
     "output_type": "stream",
     "text": [
      "[63 74 55  9 80 50 46  4 91 30]\n",
      "[30 91  4 46 50 80  9 55 74 63]\n"
     ]
    }
   ],
   "source": [
    "vektor = np.random.randint(low=0, high=100, size=10)\n",
    "\n",
    "print(vektor)\n",
    "print(vektor[::-1])"
   ]
  },
  {
   "cell_type": "markdown",
   "metadata": {},
   "source": [
    "6) Создать двумерную матрицу размера 3 на 3, заполненную числами от 0 до 9"
   ]
  },
  {
   "cell_type": "code",
   "execution_count": 9,
   "metadata": {},
   "outputs": [
    {
     "name": "stdout",
     "output_type": "stream",
     "text": [
      "[[0 1 2]\n",
      " [3 4 5]\n",
      " [6 7 8]]\n"
     ]
    }
   ],
   "source": [
    "vektor = np.arange(9).reshape(3,3)\n",
    "\n",
    "print(vektor)"
   ]
  },
  {
   "cell_type": "markdown",
   "metadata": {},
   "source": [
    "7) Создать матрицу размера 4 на 4 с единицами на диагонали смещеной на один наверх."
   ]
  },
  {
   "cell_type": "code",
   "execution_count": 10,
   "metadata": {},
   "outputs": [
    {
     "name": "stdout",
     "output_type": "stream",
     "text": [
      "[[0. 1. 0. 0.]\n",
      " [0. 0. 1. 0.]\n",
      " [0. 0. 0. 1.]\n",
      " [0. 0. 0. 0.]]\n"
     ]
    }
   ],
   "source": [
    "vektor = np.eye(4, k=1)\n",
    "\n",
    "print(vektor)"
   ]
  },
  {
   "cell_type": "markdown",
   "metadata": {},
   "source": [
    "8) Создать матрицу с числами в диапазоне от 1 до 4 по диагонали. В других ячейках матрицы должны быть семерки."
   ]
  },
  {
   "cell_type": "code",
   "execution_count": 13,
   "metadata": {},
   "outputs": [
    {
     "name": "stdout",
     "output_type": "stream",
     "text": [
      "[[1 7 7 7]\n",
      " [7 2 7 7]\n",
      " [7 7 3 7]\n",
      " [7 7 7 4]]\n"
     ]
    }
   ],
   "source": [
    "vektor = np.full((4, 4), 7) - np.diag([6, 5, 4, 3])\n",
    "\n",
    "print(vektor)"
   ]
  },
  {
   "cell_type": "markdown",
   "metadata": {},
   "source": [
    "9) Создать матрицу размера 5 на 5 заполненную чилами от 0 до 4 в строках."
   ]
  },
  {
   "cell_type": "code",
   "execution_count": 17,
   "metadata": {},
   "outputs": [
    {
     "name": "stdout",
     "output_type": "stream",
     "text": [
      "[[0 1 2 3 4]\n",
      " [0 1 2 3 4]\n",
      " [0 1 2 3 4]\n",
      " [0 1 2 3 4]\n",
      " [0 1 2 3 4]]\n"
     ]
    }
   ],
   "source": [
    "matrix = np.tile(np.arange(0, 5), (5, 1))\n",
    "\n",
    "print(matrix)"
   ]
  },
  {
   "cell_type": "markdown",
   "metadata": {},
   "source": [
    "10) Создать матрицу случайных чисел размера 10 на 10 и отнять среднее по строкам из каждого элемента строки"
   ]
  },
  {
   "cell_type": "code",
   "execution_count": 25,
   "metadata": {},
   "outputs": [
    {
     "name": "stdout",
     "output_type": "stream",
     "text": [
      "[[34 31 97 52 12  8 82 35 84 54]\n",
      " [ 7 47 70 70 10  1  7 76  9 58]\n",
      " [23 14 74 36 93 23 94 27 10  7]\n",
      " [28 70  4 72 82 49 79  4 86 47]\n",
      " [64 80 86 15 96 14 78 60 36 69]\n",
      " [60 21 39 98 54 47 19 46  2 71]\n",
      " [19 85 10 88 54 60 24 93 46 26]\n",
      " [41 93 47 23 57 60 33 53 69 15]\n",
      " [79 36  4 19 87 68 43 85 27 62]\n",
      " [51 89 12 84 62 57 86 56 13 44]]\n",
      "[[48]\n",
      " [35]\n",
      " [40]\n",
      " [52]\n",
      " [59]\n",
      " [45]\n",
      " [50]\n",
      " [49]\n",
      " [51]\n",
      " [55]]\n",
      "[[-14 -17  49   4 -36 -40  34 -13  36   6]\n",
      " [-28  12  35  35 -25 -34 -28  41 -26  23]\n",
      " [-17 -26  34  -4  53 -17  54 -13 -30 -33]\n",
      " [-24  18 -48  20  30  -3  27 -48  34  -5]\n",
      " [  5  21  27 -44  37 -45  19   1 -23  10]\n",
      " [ 15 -24  -6  53   9   2 -26   1 -43  26]\n",
      " [-31  35 -40  38   4  10 -26  43  -4 -24]\n",
      " [ -8  44  -2 -26   8  11 -16   4  20 -34]\n",
      " [ 28 -15 -47 -32  36  17  -8  34 -24  11]\n",
      " [ -4  34 -43  29   7   2  31   1 -42 -11]]\n"
     ]
    }
   ],
   "source": [
    "matrix = np.random.randint(low=0, high=100, size=(10, 10))\n",
    "\n",
    "print(matrix)\n",
    "\n",
    "raw_means = np.mean(matrix, axis=1).astype(int).reshape(10, 1)\n",
    "\n",
    "print(raw_means)\n",
    "\n",
    "matrix -= raw_means\n",
    "\n",
    "print(matrix)"
   ]
  },
  {
   "cell_type": "markdown",
   "metadata": {},
   "source": [
    "11) Создать матрицу случайных чисел размера 10 на 10 и отнять медиану по столбцам из каждого элемента столбца  "
   ]
  },
  {
   "cell_type": "code",
   "execution_count": 26,
   "metadata": {},
   "outputs": [
    {
     "name": "stdout",
     "output_type": "stream",
     "text": [
      "[[34  5 34 91 18 37 23 88 22 62]\n",
      " [23 88 41 47 13 55 55 60 78 98]\n",
      " [15 20 54 93 66 55  7 92 70 92]\n",
      " [60 93 53 41 90 78 75 60 25 31]\n",
      " [18 22 90 94 31 90 19 73 33 52]\n",
      " [26 48 93 85 86 11 78 48 79 98]\n",
      " [92  0 22 22 62  5 83 50 54 24]\n",
      " [59  4 30 73 80 27  1  1 46 10]\n",
      " [ 3  2 54 47 14 68 45 58 26 44]\n",
      " [17 38 84 96 65 48 63 55 35 94]]\n",
      "[[24 21 53 79 63 51 50 59 40 57]]\n",
      "[[ 10 -16 -19  12 -45 -14 -27  29 -18   5]\n",
      " [ -1  67 -12 -32 -50   4   5   1  38  41]\n",
      " [ -9  -1   1  14   3   4 -43  33  30  35]\n",
      " [ 36  72   0 -38  27  27  25   1 -15 -26]\n",
      " [ -6   1  37  15 -32  39 -31  14  -7  -5]\n",
      " [  2  27  40   6  23 -40  28 -11  39  41]\n",
      " [ 68 -21 -31 -57  -1 -46  33  -9  14 -33]\n",
      " [ 35 -17 -23  -6  17 -24 -49 -58   6 -47]\n",
      " [-21 -19   1 -32 -49  17  -5  -1 -14 -13]\n",
      " [ -7  17  31  17   2  -3  13  -4  -5  37]]\n"
     ]
    }
   ],
   "source": [
    "matrix = np.random.randint(low=0, high=100, size=(10, 10))\n",
    "\n",
    "print(matrix)\n",
    "\n",
    "raw_means = np.median(matrix, axis=0).astype(int).reshape(1, 10)\n",
    "\n",
    "print(raw_means)\n",
    "\n",
    "matrix -= raw_means\n",
    "\n",
    "print(matrix)"
   ]
  },
  {
   "cell_type": "markdown",
   "metadata": {},
   "source": [
    "12) Создать матрицу случайных чисел 5x5. Добавить к ней столбецы максимумов и минимумов по строкам. Получится матрица 5x7.  "
   ]
  },
  {
   "cell_type": "code",
   "execution_count": 33,
   "metadata": {},
   "outputs": [
    {
     "name": "stdout",
     "output_type": "stream",
     "text": [
      "[[10 31 95 79 62]\n",
      " [34 43 43 44 52]\n",
      " [ 1  7 25 28 29]\n",
      " [28 12 88  7 61]\n",
      " [36 32 27 15 47]]\n",
      "[[ 1  7 25  7 29]]\n",
      "[[36 43 95 79 62]]\n",
      "[[10 31 95 79 62]\n",
      " [34 43 43 44 52]\n",
      " [ 1  7 25 28 29]\n",
      " [28 12 88  7 61]\n",
      " [36 32 27 15 47]\n",
      " [ 1  7 25  7 29]\n",
      " [36 43 95 79 62]]\n"
     ]
    }
   ],
   "source": [
    "matrix = np.random.randint(low=0, high=100, size=(5, 5))\n",
    "\n",
    "print(matrix)\n",
    "\n",
    "raw_min = np.min(matrix, axis=0).astype(int).reshape(1, 5)\n",
    "raw_max = np.max(matrix, axis=0).astype(int).reshape(1, 5)\n",
    "\n",
    "print(raw_min)\n",
    "print(raw_max)\n",
    "\n",
    "matrix = np.vstack((matrix, raw_min))\n",
    "matrix = np.vstack((matrix, raw_max))\n",
    "\n",
    "print(matrix)"
   ]
  },
  {
   "cell_type": "markdown",
   "metadata": {},
   "source": [
    "13) Вектор чисел от 1 до 51 преобразовать в вектор нечетных чисел и в вектор четных чисел"
   ]
  },
  {
   "cell_type": "code",
   "execution_count": 41,
   "metadata": {},
   "outputs": [
    {
     "name": "stdout",
     "output_type": "stream",
     "text": [
      "[ 1.  3.  5.  7.  9. 11. 13. 15. 17. 19. 21. 23. 25. 27. 29. 31. 33. 35.\n",
      " 37. 39. 41. 43. 45. 47. 49. 51.]\n",
      "[ 2.  4.  6.  8. 10. 12. 14. 16. 18. 20. 22. 24. 26. 28. 30. 32. 34. 36.\n",
      " 38. 40. 42. 44. 46. 48. 50.]\n",
      "[ 1.  2.  3.  4.  5.  6.  7.  8.  9. 10. 11. 12. 13. 14. 15. 16. 17. 18.\n",
      " 19. 20. 21. 22. 23. 24. 25. 26. 27. 28. 29. 30. 31. 32. 33. 34. 35. 36.\n",
      " 37. 38. 39. 40. 41. 42. 43. 44. 45. 46. 47. 48. 49. 50. 51.]\n"
     ]
    }
   ],
   "source": [
    "vektor = np.linspace(1, 51, 51)\n",
    "\n",
    "nechet_vektor = vektor[::2]\n",
    "chet_vektor = vektor[1::2]\n",
    "\n",
    "print(nechet_vektor)\n",
    "print(chet_vektor)\n",
    "\n",
    "print(vektor)"
   ]
  },
  {
   "cell_type": "markdown",
   "metadata": {},
   "source": [
    "14) Создать 8x8 матрицу и заполнить её в шахматном порядке нулями и единицами. "
   ]
  },
  {
   "cell_type": "code",
   "execution_count": 47,
   "metadata": {},
   "outputs": [
    {
     "name": "stdout",
     "output_type": "stream",
     "text": [
      "[[0 1 0 1 0 1 0 1]\n",
      " [1 0 1 0 1 0 1 0]\n",
      " [0 1 0 1 0 1 0 1]\n",
      " [1 0 1 0 1 0 1 0]\n",
      " [0 1 0 1 0 1 0 1]\n",
      " [1 0 1 0 1 0 1 0]\n",
      " [0 1 0 1 0 1 0 1]\n",
      " [1 0 1 0 1 0 1 0]]\n"
     ]
    }
   ],
   "source": [
    "print((np.arange(8)[:, None] + np.arange(8)) % 2)"
   ]
  },
  {
   "cell_type": "code",
   "execution_count": 48,
   "metadata": {},
   "outputs": [
    {
     "data": {
      "text/plain": [
       "array([[0, 1, 0, 1, 0, 1, 0, 1],\n",
       "       [1, 0, 1, 0, 1, 0, 1, 0],\n",
       "       [0, 1, 0, 1, 0, 1, 0, 1],\n",
       "       [1, 0, 1, 0, 1, 0, 1, 0],\n",
       "       [0, 1, 0, 1, 0, 1, 0, 1],\n",
       "       [1, 0, 1, 0, 1, 0, 1, 0],\n",
       "       [0, 1, 0, 1, 0, 1, 0, 1],\n",
       "       [1, 0, 1, 0, 1, 0, 1, 0]], dtype=int32)"
      ]
     },
     "execution_count": 48,
     "metadata": {},
     "output_type": "execute_result"
    }
   ],
   "source": [
    "matrix = np.zeros((8, 8))\n",
    "\n",
    "matrix = (np.arange(8)[:, None] + np.arange(8)) % 2\n",
    "\n",
    "matrix"
   ]
  }
 ],
 "metadata": {
  "kernelspec": {
   "display_name": "Python 3",
   "language": "python",
   "name": "python3"
  },
  "language_info": {
   "codemirror_mode": {
    "name": "ipython",
    "version": 3
   },
   "file_extension": ".py",
   "mimetype": "text/x-python",
   "name": "python",
   "nbconvert_exporter": "python",
   "pygments_lexer": "ipython3",
   "version": "3.12.4"
  }
 },
 "nbformat": 4,
 "nbformat_minor": 4
}
